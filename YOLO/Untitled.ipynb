{
 "cells": [
  {
   "cell_type": "code",
   "execution_count": 2,
   "metadata": {},
   "outputs": [],
   "source": [
    "import tensorflow as tf\n",
    "from tensorflow.keras.models import Sequential\n",
    "from tensorflow.keras.layers import Dense, Dropout, Activation, Flatten\n",
    "from tensorflow.keras.layers import Conv2D, MaxPooling2D\n",
    "from keras.utils import to_categorical\n",
    "\n",
    "import json\n",
    "import numpy as np\n",
    "import os\n",
    "import cv2\n",
    "import pickle\n",
    "from tqdm import tqdm\n",
    "import random\n",
    "import time\n",
    "from tensorflow.keras.callbacks import TensorBoard\n",
    "\n",
    "from proto import *"
   ]
  },
  {
   "cell_type": "code",
   "execution_count": 3,
   "metadata": {},
   "outputs": [],
   "source": [
    "IMAGE_SIZE = 50\n",
    "img_path = r'..\\..\\ImageGenerator\\Targets'\n",
    "target_path = r'..\\..\\ImageGenerator\\Target Data'"
   ]
  },
  {
   "cell_type": "code",
   "execution_count": 5,
   "metadata": {},
   "outputs": [],
   "source": [
    "def create_training_data(image_path, json_path, img_size):\n",
    "    training_data = []\n",
    "    for img in tqdm(os.listdir(image_path)):\n",
    "        img_array = cv2.imread(os.path.join(image_path, img), cv2.IMREAD_GRAYSCALE)\n",
    "        # img_array = cv2.Canny(img_array, 50, 50)\n",
    "        new_array = cv2.resize(img_array, (img_size, img_size))\n",
    "        json_file = img[0:-4] + '.json'\n",
    "        json_dict = json.load(open(os.path.join(json_path, json_file)))\n",
    "        class_number = Shape[json_dict['shape']].value\n",
    "        training_data.append([new_array, class_number])\n",
    "    return np.array(training_data)\n",
    "def store_training_data():\n",
    "    X_data = []\n",
    "    y_data = []\n",
    "    shape_training_data = create_training_data(img_path, target_path, IMAGE_SIZE)\n",
    "    for feature, label in shape_training_data:\n",
    "        X_data.append(feature)\n",
    "        y_data.append(label)\n",
    "\n",
    "    X = np.array(X_data)\n",
    "    X = X.reshape(-1, IMAGE_SIZE, IMAGE_SIZE, 1)\n",
    "    y = np.array(y_data)\n",
    "\n",
    "    pickle_out = open(r\"Training_Data/shape_X.pickle\", \"wb\")\n",
    "    pickle.dump(X, pickle_out)\n",
    "    pickle_out.close()\n",
    "\n",
    "    pickle_out = open(r\"Training_Data/shape_y.pickle\", \"wb\")\n",
    "    pickle.dump(y, pickle_out)\n",
    "    pickle_out.close()"
   ]
  },
  {
   "cell_type": "code",
   "execution_count": 6,
   "metadata": {},
   "outputs": [],
   "source": [
    "def train_model():\n",
    "    pickle_in = open(\"Training_Data/shape_X.pickle\", 'rb')\n",
    "    X = pickle.load(pickle_in)\n",
    "\n",
    "    pickle_in = open(\"Training_Data/shape_y.pickle\", 'rb')\n",
    "    y = pickle.load(pickle_in)\n",
    "\n",
    "    X = X/255.\n",
    "    y = to_categorical(y)\n",
    "\n",
    "    conv_layer = 2\n",
    "    layer_size = 256\n",
    "    dense_layer = 1\n",
    "    dense_size = 128\n",
    "\n",
    "    NAME = \"{}-conv-{}-nodes-{}-dense-{}-nodes-{}\".format(conv_layer,\n",
    "                                                          layer_size,\n",
    "                                                          dense_layer,\n",
    "                                                          dense_size,\n",
    "                                                          int(time.time()))\n",
    "\n",
    "    model = Sequential()\n",
    "    model.add(Conv2D(layer_size, (3, 3), input_shape=X.shape[1:]))\n",
    "    model.add(Activation('relu'))\n",
    "    model.add(MaxPooling2D(pool_size=(2, 2)))\n",
    "\n",
    "    for l in range(conv_layer - 1):\n",
    "        model.add(Conv2D(layer_size, (3, 3)))\n",
    "        model.add(Activation('relu'))\n",
    "        model.add(MaxPooling2D(pool_size=(2, 2)))\n",
    "\n",
    "    model.add(Flatten())\n",
    "\n",
    "    for _ in range(dense_layer):\n",
    "        model.add(Dense(dense_size))\n",
    "        model.add(Activation('relu'))\n",
    "\n",
    "    model.add(Dense(14))\n",
    "    model.add(Activation('softmax'))\n",
    "\n",
    "    tensorboard = TensorBoard(log_dir=r\"shape_classifier_logs\\{}\".format(NAME))\n",
    "\n",
    "    model.compile(loss='categorical_crossentropy',\n",
    "                  optimizer='adam',\n",
    "                  metrics=['accuracy'],\n",
    "                  )\n",
    "\n",
    "    model.fit(X, y,\n",
    "              batch_size=32,\n",
    "              epochs=4,\n",
    "              validation_split=0.3,\n",
    "              callbacks=[tensorboard])\n",
    "\n",
    "    model.save('shape_classifier.model')\n",
    "\n",
    "    return model"
   ]
  },
  {
   "cell_type": "code",
   "execution_count": 7,
   "metadata": {},
   "outputs": [],
   "source": [
    "def load_model():\n",
    "    return tf.keras.models.load_model('shape_classifier.model')"
   ]
  },
  {
   "cell_type": "code",
   "execution_count": 8,
   "metadata": {},
   "outputs": [],
   "source": [
    "def prep_image(img):\n",
    "    # img_array = cv2.Canny(img, 50, 50)\n",
    "    img_array = cv2.resize(img, (IMAGE_SIZE, IMAGE_SIZE))\n",
    "    return img_array"
   ]
  },
  {
   "cell_type": "code",
   "execution_count": 9,
   "metadata": {},
   "outputs": [
    {
     "name": "stdout",
     "output_type": "stream",
     "text": [
      "Epoch 1/4\n",
      "  1/329 [..............................] - ETA: 0s - loss: 2.6338 - accuracy: 0.0938WARNING:tensorflow:From C:\\Users\\hscot\\anaconda3\\envs\\py37\\lib\\site-packages\\tensorflow\\python\\ops\\summary_ops_v2.py:1277: stop (from tensorflow.python.eager.profiler) is deprecated and will be removed after 2020-07-01.\n",
      "Instructions for updating:\n",
      "use `tf.profiler.experimental.stop` instead.\n",
      "329/329 [==============================] - 154s 467ms/step - loss: 1.4823 - accuracy: 0.4888 - val_loss: 0.5535 - val_accuracy: 0.8184\n",
      "Epoch 2/4\n",
      "329/329 [==============================] - 152s 461ms/step - loss: 0.3692 - accuracy: 0.8798 - val_loss: 0.2700 - val_accuracy: 0.9229\n",
      "Epoch 3/4\n",
      "329/329 [==============================] - 149s 454ms/step - loss: 0.1833 - accuracy: 0.9413 - val_loss: 0.2250 - val_accuracy: 0.9251\n",
      "Epoch 4/4\n",
      "329/329 [==============================] - 153s 465ms/step - loss: 0.1135 - accuracy: 0.9645 - val_loss: 0.1363 - val_accuracy: 0.9600\n",
      "WARNING:tensorflow:From C:\\Users\\hscot\\anaconda3\\envs\\py37\\lib\\site-packages\\tensorflow\\python\\training\\tracking\\tracking.py:111: Model.state_updates (from tensorflow.python.keras.engine.training) is deprecated and will be removed in a future version.\n",
      "Instructions for updating:\n",
      "This property should not be used in TensorFlow 2.0, as updates are applied automatically.\n",
      "WARNING:tensorflow:From C:\\Users\\hscot\\anaconda3\\envs\\py37\\lib\\site-packages\\tensorflow\\python\\training\\tracking\\tracking.py:111: Layer.updates (from tensorflow.python.keras.engine.base_layer) is deprecated and will be removed in a future version.\n",
      "Instructions for updating:\n",
      "This property should not be used in TensorFlow 2.0, as updates are applied automatically.\n",
      "INFO:tensorflow:Assets written to: shape_classifier.model\\assets\n"
     ]
    }
   ],
   "source": [
    "model = train_model()"
   ]
  },
  {
   "cell_type": "code",
   "execution_count": 12,
   "metadata": {},
   "outputs": [],
   "source": [
    "class Shape(Enum):\n",
    "    Circle = 1\n",
    "    Semicircle = 2\n",
    "    Quarter_Circle = 3\n",
    "    Triangle = 4\n",
    "    Square = 5\n",
    "    Rectangle = 6\n",
    "    Trapezoid = 7\n",
    "    Pentagon = 8\n",
    "    Hexagon = 9\n",
    "    Heptagon = 10\n",
    "    Octagon = 11\n",
    "    Star = 12\n",
    "    Cross = 13"
   ]
  },
  {
   "cell_type": "code",
   "execution_count": 11,
   "metadata": {},
   "outputs": [
    {
     "name": "stdout",
     "output_type": "stream",
     "text": [
      "[0. 0. 0. 0. 0. 0. 0. 0. 0. 0. 0. 1. 0. 0.]\n"
     ]
    },
    {
     "data": {
      "text/plain": [
       "<matplotlib.image.AxesImage at 0x229173486c8>"
      ]
     },
     "execution_count": 11,
     "metadata": {},
     "output_type": "execute_result"
    },
    {
     "data": {
      "image/png": "[encoded data removed]",
      "text/plain": [
       "<Figure size 432x288 with 1 Axes>"
      ]
     },
     "metadata": {
      "needs_background": "light"
     },
     "output_type": "display_data"
    }
   ],
   "source": [
    "loaded_model = load_model()\n",
    "img = cv2.imread('../../ImageGenerator/Targets/1000.png', cv2.IMREAD_GRAYSCALE)\n",
    "old_img = img\n",
    "img = prep_image(img)\n",
    "img = np.array(img)\n",
    "img = np.expand_dims(img, -1)\n",
    "arr = np.array([img])\n",
    "predictions = loaded_model.predict(arr)\n",
    "print(predictions[0])\n",
    "import matplotlib.pyplot as plt\n",
    "plt.imshow(old_img, cmap=plt.cm.binary)"
   ]
  },
  {
   "cell_type": "code",
   "execution_count": null,
   "metadata": {},
   "outputs": [],
   "source": []
  }
 ],
 "metadata": {
  "kernelspec": {
   "display_name": "Python (3.7)",
   "language": "python",
   "name": "3.7"
  },
  "language_info": {
   "codemirror_mode": {
    "name": "ipython",
    "version": 3
   },
   "file_extension": ".py",
   "mimetype": "text/x-python",
   "name": "python",
   "nbconvert_exporter": "python",
   "pygments_lexer": "ipython3",
   "version": "3.7.7"
  }
 },
 "nbformat": 4,
 "nbformat_minor": 4
}
